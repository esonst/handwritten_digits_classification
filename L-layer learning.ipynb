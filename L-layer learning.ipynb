{
 "cells": [
  {
   "cell_type": "markdown",
   "metadata": {},
   "source": [
    "## import"
   ]
  },
  {
   "cell_type": "code",
   "execution_count": 1,
   "metadata": {},
   "outputs": [],
   "source": [
    "import tensorflow.examples.tutorials.mnist.input_data as input_data"
   ]
  },
  {
   "cell_type": "code",
   "execution_count": 2,
   "metadata": {},
   "outputs": [
    {
     "data": {
      "text/plain": [
       "\"\\n%matplotlib inline\\nplt.rcParams['figure.figsize'] = (5.0, 4.0) # set default size of plots\\nplt.rcParams['image.interpolation'] = 'nearest'\\nplt.rcParams['image.cmap'] = 'gray'\\n\""
      ]
     },
     "execution_count": 2,
     "metadata": {},
     "output_type": "execute_result"
    }
   ],
   "source": [
    "import numpy as np\n",
    "import matplotlib.pyplot as plt\n",
    "\"\"\"\n",
    "%matplotlib inline\n",
    "plt.rcParams['figure.figsize'] = (5.0, 4.0) # set default size of plots\n",
    "plt.rcParams['image.interpolation'] = 'nearest'\n",
    "plt.rcParams['image.cmap'] = 'gray'\n",
    "\"\"\""
   ]
  },
  {
   "cell_type": "markdown",
   "metadata": {},
   "source": [
    "## 1 - Datasets"
   ]
  },
  {
   "cell_type": "code",
   "execution_count": 3,
   "metadata": {},
   "outputs": [
    {
     "name": "stdout",
     "output_type": "stream",
     "text": [
      "WARNING:tensorflow:From <ipython-input-3-060114859bc5>:1: read_data_sets (from tensorflow.contrib.learn.python.learn.datasets.mnist) is deprecated and will be removed in a future version.\n",
      "Instructions for updating:\n",
      "Please use alternatives such as official/mnist/dataset.py from tensorflow/models.\n",
      "WARNING:tensorflow:From c:\\program files (x86)\\microsoft visual studio\\shared\\python36_64\\lib\\site-packages\\tensorflow\\contrib\\learn\\python\\learn\\datasets\\mnist.py:260: maybe_download (from tensorflow.contrib.learn.python.learn.datasets.base) is deprecated and will be removed in a future version.\n",
      "Instructions for updating:\n",
      "Please write your own downloading logic.\n",
      "WARNING:tensorflow:From c:\\program files (x86)\\microsoft visual studio\\shared\\python36_64\\lib\\site-packages\\tensorflow\\contrib\\learn\\python\\learn\\datasets\\mnist.py:262: extract_images (from tensorflow.contrib.learn.python.learn.datasets.mnist) is deprecated and will be removed in a future version.\n",
      "Instructions for updating:\n",
      "Please use tf.data to implement this functionality.\n",
      "Extracting datasets/train-images-idx3-ubyte.gz\n",
      "WARNING:tensorflow:From c:\\program files (x86)\\microsoft visual studio\\shared\\python36_64\\lib\\site-packages\\tensorflow\\contrib\\learn\\python\\learn\\datasets\\mnist.py:267: extract_labels (from tensorflow.contrib.learn.python.learn.datasets.mnist) is deprecated and will be removed in a future version.\n",
      "Instructions for updating:\n",
      "Please use tf.data to implement this functionality.\n",
      "Extracting datasets/train-labels-idx1-ubyte.gz\n",
      "WARNING:tensorflow:From c:\\program files (x86)\\microsoft visual studio\\shared\\python36_64\\lib\\site-packages\\tensorflow\\contrib\\learn\\python\\learn\\datasets\\mnist.py:110: dense_to_one_hot (from tensorflow.contrib.learn.python.learn.datasets.mnist) is deprecated and will be removed in a future version.\n",
      "Instructions for updating:\n",
      "Please use tf.one_hot on tensors.\n",
      "Extracting datasets/t10k-images-idx3-ubyte.gz\n",
      "Extracting datasets/t10k-labels-idx1-ubyte.gz\n",
      "WARNING:tensorflow:From c:\\program files (x86)\\microsoft visual studio\\shared\\python36_64\\lib\\site-packages\\tensorflow\\contrib\\learn\\python\\learn\\datasets\\mnist.py:290: DataSet.__init__ (from tensorflow.contrib.learn.python.learn.datasets.mnist) is deprecated and will be removed in a future version.\n",
      "Instructions for updating:\n",
      "Please use alternatives such as official/mnist/dataset.py from tensorflow/models.\n"
     ]
    }
   ],
   "source": [
    "mnist = input_data.read_data_sets(\"datasets/\", one_hot=True)"
   ]
  },
  {
   "cell_type": "code",
   "execution_count": 4,
   "metadata": {},
   "outputs": [],
   "source": [
    "train_x_orig,train_y_orig,test_x_orig,test_y_orig=mnist.train.images,mnist.train.labels,mnist.test.images,mnist.test.labels"
   ]
  },
  {
   "cell_type": "code",
   "execution_count": 5,
   "metadata": {},
   "outputs": [
    {
     "name": "stdout",
     "output_type": "stream",
     "text": [
      "y= 7\n"
     ]
    },
    {
     "data": {
      "image/png": "[encoded data removed]",
      "text/plain": [
       "<Figure size 432x288 with 1 Axes>"
      ]
     },
     "metadata": {},
     "output_type": "display_data"
    }
   ],
   "source": [
    "index = 25\n",
    "plt.imshow(train_x_orig[index].reshape(28,28))\n",
    "print(\"y= \"+str(int(np.squeeze(np.dot(train_y_orig[index].reshape(1,-1),np.array([0,1,2,3,4,5,6,7,8,9]).reshape(-1,1))))))"
   ]
  },
  {
   "cell_type": "code",
   "execution_count": 6,
   "metadata": {},
   "outputs": [
    {
     "name": "stdout",
     "output_type": "stream",
     "text": [
      "The shape of train_x is (784, 55000)\n",
      "The shape of train_y is (10, 55000)\n",
      "The shape of test_x is (784, 10000)\n",
      "The shape of test_y is (10, 10000)\n"
     ]
    }
   ],
   "source": [
    "train_x=train_x_orig.T\n",
    "train_y=train_y_orig.T\n",
    "test_x=test_x_orig.T\n",
    "test_y=test_y_orig.T\n",
    "print(\"The shape of train_x is (\"+ str(train_x.shape[0])+', '+str(train_x.shape[1])+')')\n",
    "print(\"The shape of train_y is (\"+ str(train_y.shape[0])+', '+str(train_y.shape[1])+')')\n",
    "print(\"The shape of test_x is (\"+ str(test_x.shape[0])+', '+str(test_x.shape[1])+')')\n",
    "print(\"The shape of test_y is (\"+ str(test_y.shape[0])+', '+str(test_y.shape[1])+')')"
   ]
  },
  {
   "cell_type": "markdown",
   "metadata": {},
   "source": [
    "## 2 - L-layers init paras"
   ]
  },
  {
   "cell_type": "code",
   "execution_count": 7,
   "metadata": {},
   "outputs": [],
   "source": [
    "lims=[20,5,8,7,13,8]"
   ]
  },
  {
   "cell_type": "code",
   "execution_count": 11,
   "metadata": {},
   "outputs": [],
   "source": [
    "def init_paras(X,Y,lims):\n",
    "    np.random.seed(0)\n",
    "    paras={}\n",
    "    L=len(lims)\n",
    "    \n",
    "    paras[\"W0\"]=np.random.randn(lims[0],X.shape[0])\n",
    "    paras[\"b0\"]=np.zeros((lims[0],1))\n",
    "    for l in range(1,L):\n",
    "        paras[\"W\"+str(l)]=np.random.randn(lims[l],lims[l-1])\n",
    "        paras[\"b\"+str(l)]=np.zeros((lims[l],1))\n",
    "    paras[\"W\"+str(L)]=np.random.randn(Y.shape[0],lims[L-1])\n",
    "    paras[\"b\"+str(L)]=np.zeros((Y.shape[0],1))\n",
    "    return paras"
   ]
  },
  {
   "cell_type": "markdown",
   "metadata": {},
   "source": [
    "## 3 - L-layers forward propagate"
   ]
  },
  {
   "cell_type": "code",
   "execution_count": 12,
   "metadata": {},
   "outputs": [],
   "source": [
    "def relu(Z):\n",
    "    return np.maximum(0,Z)\n",
    "def sigmoid(Z):\n",
    "    return 1/(1+np.exp(-Z))\n",
    "def linear_forward(A_prev,W,b,activation):\n",
    "    Z=np.dot(W,A_prev)+b\n",
    "    A=activation(Z)\n",
    "    cache=(A_prev,W,b,Z)\n",
    "    return A,cache"
   ]
  },
  {
   "cell_type": "code",
   "execution_count": 13,
   "metadata": {},
   "outputs": [],
   "source": [
    "def forward_propagate(X,paras):\n",
    "    L=len(paras)//2\n",
    "    caches={}\n",
    "    A=X\n",
    "    for l in range(L):\n",
    "        A,cache=linear_forward(A,paras[\"W\"+str(l)],paras[\"b\"+str(l)],relu)\n",
    "        caches.append(cache)\n",
    "    AL,cache=linear_forward(A,paras[\"WL\"],paras[\"bL\"],sigmoid)\n",
    "    caches.append(cache)\n",
    "    return AL,caches"
   ]
  },
  {
   "cell_type": "markdown",
   "metadata": {},
   "source": [
    "## 4 - Compute cost"
   ]
  },
  {
   "cell_type": "code",
   "execution_count": 16,
   "metadata": {},
   "outputs": [],
   "source": [
    "def compute_cost(AL,Y):\n",
    "    m=Y.shpae[1]\n",
    "    cost=-np.sum(Y*np.log(AL)-(1-Y)*np.log(1-AL))/m\n",
    "    \n",
    "    return cost"
   ]
  },
  {
   "cell_type": "markdown",
   "metadata": {},
   "source": [
    "## 5 - Backward propagate"
   ]
  },
  {
   "cell_type": "code",
   "execution_count": null,
   "metadata": {},
   "outputs": [],
   "source": [
    "def backward_propagate():\n",
    "    "
   ]
  }
 ],
 "metadata": {
  "kernelspec": {
   "display_name": "Python 3",
   "language": "python",
   "name": "python3"
  },
  "language_info": {
   "codemirror_mode": {
    "name": "ipython",
    "version": 3
   },
   "file_extension": ".py",
   "mimetype": "text/x-python",
   "name": "python",
   "nbconvert_exporter": "python",
   "pygments_lexer": "ipython3",
   "version": "3.6.3"
  }
 },
 "nbformat": 4,
 "nbformat_minor": 2
}
