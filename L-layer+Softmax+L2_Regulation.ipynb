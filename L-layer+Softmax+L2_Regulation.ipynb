{
 "cells": [
  {
   "cell_type": "markdown",
   "metadata": {},
   "source": [
    "## import"
   ]
  },
  {
   "cell_type": "code",
   "execution_count": 1,
   "metadata": {},
   "outputs": [],
   "source": [
    "import numpy as np\n",
    "import matplotlib.pyplot as plt\n",
    "\n",
    "%matplotlib inline\n",
    "plt.rcParams['figure.figsize'] = (5.0, 4.0) # set default size of plots\n",
    "plt.rcParams['image.interpolation'] = 'nearest'\n",
    "plt.rcParams['image.cmap'] = 'gray'"
   ]
  },
  {
   "cell_type": "markdown",
   "metadata": {},
   "source": [
    "## 1 - Datasets"
   ]
  },
  {
   "cell_type": "code",
   "execution_count": 2,
   "metadata": {},
   "outputs": [],
   "source": [
    "from load_data import load_data"
   ]
  },
  {
   "cell_type": "code",
   "execution_count": 3,
   "metadata": {},
   "outputs": [
    {
     "name": "stdout",
     "output_type": "stream",
     "text": [
      "WARNING:tensorflow:From E:\\code\\deeplearning\\手写数字识别\\load_data.py:14: read_data_sets (from tensorflow.contrib.learn.python.learn.datasets.mnist) is deprecated and will be removed in a future version.\n",
      "Instructions for updating:\n",
      "Please use alternatives such as official/mnist/dataset.py from tensorflow/models.\n",
      "WARNING:tensorflow:From c:\\program files (x86)\\microsoft visual studio\\shared\\python36_64\\lib\\site-packages\\tensorflow\\contrib\\learn\\python\\learn\\datasets\\mnist.py:260: maybe_download (from tensorflow.contrib.learn.python.learn.datasets.base) is deprecated and will be removed in a future version.\n",
      "Instructions for updating:\n",
      "Please write your own downloading logic.\n",
      "WARNING:tensorflow:From c:\\program files (x86)\\microsoft visual studio\\shared\\python36_64\\lib\\site-packages\\tensorflow\\contrib\\learn\\python\\learn\\datasets\\mnist.py:262: extract_images (from tensorflow.contrib.learn.python.learn.datasets.mnist) is deprecated and will be removed in a future version.\n",
      "Instructions for updating:\n",
      "Please use tf.data to implement this functionality.\n",
      "Extracting datasets/train-images-idx3-ubyte.gz\n",
      "WARNING:tensorflow:From c:\\program files (x86)\\microsoft visual studio\\shared\\python36_64\\lib\\site-packages\\tensorflow\\contrib\\learn\\python\\learn\\datasets\\mnist.py:267: extract_labels (from tensorflow.contrib.learn.python.learn.datasets.mnist) is deprecated and will be removed in a future version.\n",
      "Instructions for updating:\n",
      "Please use tf.data to implement this functionality.\n",
      "Extracting datasets/train-labels-idx1-ubyte.gz\n",
      "WARNING:tensorflow:From c:\\program files (x86)\\microsoft visual studio\\shared\\python36_64\\lib\\site-packages\\tensorflow\\contrib\\learn\\python\\learn\\datasets\\mnist.py:110: dense_to_one_hot (from tensorflow.contrib.learn.python.learn.datasets.mnist) is deprecated and will be removed in a future version.\n",
      "Instructions for updating:\n",
      "Please use tf.one_hot on tensors.\n",
      "Extracting datasets/t10k-images-idx3-ubyte.gz\n",
      "Extracting datasets/t10k-labels-idx1-ubyte.gz\n",
      "WARNING:tensorflow:From c:\\program files (x86)\\microsoft visual studio\\shared\\python36_64\\lib\\site-packages\\tensorflow\\contrib\\learn\\python\\learn\\datasets\\mnist.py:290: DataSet.__init__ (from tensorflow.contrib.learn.python.learn.datasets.mnist) is deprecated and will be removed in a future version.\n",
      "Instructions for updating:\n",
      "Please use alternatives such as official/mnist/dataset.py from tensorflow/models.\n",
      "The shape of train_x is (784, 7000)\n",
      "The shape of train_y is (10, 7000)\n",
      "The shape of test_x is (784, 2000)\n",
      "The shape of test_y is (10, 2000)\n"
     ]
    }
   ],
   "source": [
    "train_x,train_y,test_x,test_y=load_data(7000,2000)"
   ]
  },
  {
   "cell_type": "markdown",
   "metadata": {},
   "source": [
    "## 2 - L-layers initialize parameters"
   ]
  },
  {
   "cell_type": "code",
   "execution_count": 4,
   "metadata": {},
   "outputs": [],
   "source": [
    "def init_paras(X,Y,dims):\n",
    "    np.random.seed(0)\n",
    "    paras={}\n",
    "    L=len(dims)\n",
    "    \n",
    "    paras[\"W1\"]=np.random.randn(dims[0],X.shape[0])*0.01\n",
    "    paras[\"b1\"]=np.zeros((dims[0],1))\n",
    "    for l in range(1,L):\n",
    "        paras[\"W\"+str(l+1)]=np.random.randn(dims[l],dims[l-1])*0.01\n",
    "        paras[\"b\"+str(l+1)]=np.zeros((dims[l],1))\n",
    "    paras[\"W\"+str(L+1)]=np.random.randn(Y.shape[0],dims[L-1])*0.01\n",
    "    paras[\"b\"+str(L+1)]=np.zeros((Y.shape[0],1))\n",
    "    return paras"
   ]
  },
  {
   "cell_type": "code",
   "execution_count": 5,
   "metadata": {},
   "outputs": [
    {
     "name": "stdout",
     "output_type": "stream",
     "text": [
      "W1 = (1, 784)\n",
      "b1 = (1, 1)\n",
      "W2 = (2, 1)\n",
      "b2 = (2, 1)\n",
      "W3 = (3, 2)\n",
      "b3 = (3, 1)\n",
      "W4 = (4, 3)\n",
      "b4 = (4, 1)\n",
      "W5 = (10, 4)\n",
      "b5 = (10, 1)\n"
     ]
    }
   ],
   "source": [
    "paras=init_paras(train_x,train_y,[1,2,3,4])\n",
    "for l in range(len(paras)//2):\n",
    "    print(\"W\"+str(l+1)+\" = \"+str(paras[\"W\"+str(l+1)].shape))\n",
    "    print(\"b\"+str(l+1)+\" = \"+str(paras[\"b\"+str(l+1)].shape))"
   ]
  },
  {
   "cell_type": "markdown",
   "metadata": {},
   "source": [
    "## 3 - L-layers forward propagate"
   ]
  },
  {
   "cell_type": "code",
   "execution_count": 6,
   "metadata": {},
   "outputs": [],
   "source": [
    "def relu(cache):\n",
    "    A_prev,W,b,Z=cache\n",
    "    return np.maximum(0,Z)\n",
    "def linear_forward(A_prev,W,b):\n",
    "    Z=np.dot(W,A_prev)+b\n",
    "    cache=(A_prev,W,b,Z)\n",
    "    return cache\n",
    "def softmax(cache):\n",
    "    A_prev,W,b,Z=cache\n",
    "    weight=np.exp(Z)\n",
    "    return np.divide(weight,weight.sum(0))"
   ]
  },
  {
   "cell_type": "code",
   "execution_count": 7,
   "metadata": {},
   "outputs": [],
   "source": [
    "def forward_propagate(X,paras):\n",
    "    L=len(paras)//2\n",
    "    caches=[]\n",
    "    A=X\n",
    "    for l in range(1,L):\n",
    "        cache=linear_forward(A,paras[\"W\"+str(l)],paras[\"b\"+str(l)])\n",
    "        A=relu(cache)\n",
    "        caches.append(cache)\n",
    "    cache=linear_forward(A,paras[\"W\"+str(L)],paras[\"b\"+str(L)])\n",
    "    AL=softmax(cache)\n",
    "    caches.append(cache)\n",
    "    return AL,caches"
   ]
  },
  {
   "cell_type": "markdown",
   "metadata": {},
   "source": [
    "## 4 - Compute cost"
   ]
  },
  {
   "cell_type": "code",
   "execution_count": 8,
   "metadata": {},
   "outputs": [],
   "source": [
    "def compute_cost(AL,Y):\n",
    "    cost=np.sum(np.multiply(-np.log(AL),Y))/Y.shape[1]\n",
    "    return cost"
   ]
  },
  {
   "cell_type": "markdown",
   "metadata": {},
   "source": [
    "## 5 - Backward propagate"
   ]
  },
  {
   "cell_type": "code",
   "execution_count": 9,
   "metadata": {},
   "outputs": [],
   "source": [
    "def linear_back(dA,cache,lambd):\n",
    "    A_prev,W,b,Z=cache\n",
    "    m=dA.shape[1]\n",
    "    dZ=relu_back(dA,Z)\n",
    "    dW=np.dot(dZ,A_prev.T)/m+lambd*W/m\n",
    "    dA_prev=np.dot(W.T,dZ) \n",
    "    db=np.sum(dZ,axis = 1, keepdims = True)/m\n",
    "    return dW,dA_prev,db\n",
    "def relu_back(dA,Z):\n",
    "    dZ = np.array(dA, copy=True)\n",
    "    dZ[Z <= 0] = 0\n",
    "    return dZ"
   ]
  },
  {
   "cell_type": "code",
   "execution_count": 10,
   "metadata": {},
   "outputs": [],
   "source": [
    "def backward_propagate(X,Y,caches,AL,lambd):\n",
    "    grads={}\n",
    "    L=len(caches)\n",
    "    m=Y.shape[1]\n",
    "    \n",
    "    A_prev,W,b,Z=caches[L-1]\n",
    "    dZL=AL-Y\n",
    "    grads[\"dW\"+str(L)]=np.dot(dZL,A_prev.T)/m+lambd*W/m\n",
    "    grads[\"db\"+str(L)]=np.sum(dZL,axis = 1, keepdims = True)/m\n",
    "    grads[\"dA\"+str(L-1)]=np.dot(W.T,dZL)\n",
    "    \n",
    "    for l in reversed(range(L-1)):\n",
    "        grads[\"dW\"+str(l+1)],grads[\"dA\"+str(l)],grads[\"db\"+str(l+1)]=linear_back(grads[\"dA\"+str(l+1)],caches[l],lambd)\n",
    "    return grads"
   ]
  },
  {
   "cell_type": "markdown",
   "metadata": {},
   "source": [
    "### 6 - Updata paras"
   ]
  },
  {
   "cell_type": "code",
   "execution_count": 11,
   "metadata": {},
   "outputs": [],
   "source": [
    "def updata_paras(paras,grads,learning_rate=0.6):\n",
    "    L=len(paras)//2\n",
    "    for l in range(1,L+1):\n",
    "        paras[\"W\"+str(l)]-=learning_rate*grads[\"dW\"+str(l)]\n",
    "        paras[\"b\"+str(l)]-=learning_rate*grads[\"db\"+str(l)]\n",
    "    return paras"
   ]
  },
  {
   "cell_type": "markdown",
   "metadata": {},
   "source": [
    "## 建立模型"
   ]
  },
  {
   "cell_type": "code",
   "execution_count": 12,
   "metadata": {},
   "outputs": [],
   "source": [
    "def model(X, Y, layers_dims, lambd,learning_rate = 0.3, num_iterations = 3000, print_cost=True):\n",
    "    costs = []\n",
    "    paras=init_paras(train_x,train_y,layers_dims)\n",
    "    for i in range(0, num_iterations):\n",
    "        AL,caches=forward_propagate(train_x,paras)\n",
    "        cost=compute_cost(AL,train_y)\n",
    "        grads=backward_propagate(train_x,train_y,caches,AL,lambd)\n",
    "        paras=updata_paras(paras,grads,learning_rate)\n",
    "        if print_cost and i % 100 == 0:\n",
    "            print (\"Cost after iteration %i: %f\" %(i, cost))\n",
    "            costs.append(cost)\n",
    "            \n",
    "    plt.plot(np.squeeze(costs))\n",
    "    plt.ylabel('cost')\n",
    "    plt.xlabel('iterations (per tens)')\n",
    "    plt.title(\"Learning rate =\" + str(learning_rate))\n",
    "    plt.show()\n",
    "    return paras"
   ]
  },
  {
   "cell_type": "code",
   "execution_count": 13,
   "metadata": {},
   "outputs": [],
   "source": [
    "def predict(X,Y,paras):\n",
    "    AL,_=forward_propagate(X,paras)\n",
    "    m = X.shape[1]\n",
    "\n",
    "    p=AL.argmax(0)\n",
    "    y=Y.argmax(0)\n",
    "    \n",
    "    num=0\n",
    "    for i in range(len(p)):\n",
    "        if p[i]==y[i]:\n",
    "            num+=1\n",
    "    print(\"Accuracy: \"  + str(num*100/m)+\"%\")"
   ]
  },
  {
   "cell_type": "code",
   "execution_count": 14,
   "metadata": {},
   "outputs": [],
   "source": [
    "def remodel(paras,X, Y, layers_dims, lambd,learning_rate = 0.3, num_iterations = 3000, print_cost=True):\n",
    "    costs = []\n",
    "    for i in range(0, num_iterations):\n",
    "        AL,caches=forward_propagate(train_x,paras)\n",
    "        cost=compute_cost(AL,train_y)\n",
    "        grads=backward_propagate(train_x,train_y,caches,AL,lambd)\n",
    "        paras=updata_paras(paras,grads,learning_rate)\n",
    "        if print_cost and i % 100 == 0:\n",
    "            print (\"Cost after iteration %i: %f\" %(i, cost))\n",
    "            costs.append(cost)\n",
    "            \n",
    "    plt.plot(np.squeeze(costs))\n",
    "    plt.ylabel('cost')\n",
    "    plt.xlabel('iterations (per tens)')\n",
    "    plt.title(\"Learning rate =\" + str(learning_rate))\n",
    "    plt.show()\n",
    "    return paras"
   ]
  },
  {
   "cell_type": "code",
   "execution_count": 15,
   "metadata": {},
   "outputs": [
    {
     "name": "stdout",
     "output_type": "stream",
     "text": [
      "Cost after iteration 0: 2.302584\n",
      "Cost after iteration 100: 2.300320\n",
      "Cost after iteration 200: 2.300239\n",
      "Cost after iteration 300: 2.299101\n",
      "Cost after iteration 400: 1.696808\n",
      "Cost after iteration 500: 1.023755\n",
      "Cost after iteration 600: 0.718111\n",
      "Cost after iteration 700: 0.636570\n",
      "Cost after iteration 800: 0.354317\n",
      "Cost after iteration 900: 0.278639\n",
      "Cost after iteration 1000: 0.278662\n",
      "Cost after iteration 1100: 0.215181\n",
      "Cost after iteration 1200: 0.206121\n",
      "Cost after iteration 1300: 0.162178\n",
      "Cost after iteration 1400: 0.150060\n"
     ]
    },
    {
     "data": {
      "image/png": "[encoded data removed]",
      "text/plain": [
       "<Figure size 432x288 with 1 Axes>"
      ]
     },
     "metadata": {},
     "output_type": "display_data"
    }
   ],
   "source": [
    "layers_dims=[10,9]\n",
    "paras=model(train_x, train_y, layers_dims,lambd=2,learning_rate = 0.3,num_iterations = 1500)"
   ]
  },
  {
   "cell_type": "markdown",
   "metadata": {},
   "source": [
    "### 继续训练"
   ]
  },
  {
   "cell_type": "code",
   "execution_count": 18,
   "metadata": {},
   "outputs": [
    {
     "name": "stdout",
     "output_type": "stream",
     "text": [
      "Cost after iteration 0: 0.133552\n",
      "Cost after iteration 100: 0.118853\n",
      "Cost after iteration 200: 0.113735\n",
      "Cost after iteration 300: 0.108972\n",
      "Cost after iteration 400: 0.104513\n"
     ]
    },
    {
     "data": {
      "image/png": "[encoded data removed]",
      "text/plain": [
       "<Figure size 432x288 with 1 Axes>"
      ]
     },
     "metadata": {},
     "output_type": "display_data"
    }
   ],
   "source": [
    "paras=remodel(paras,train_x, train_y, layers_dims,lambd=2,learning_rate = 0.1,num_iterations = 500)"
   ]
  },
  {
   "cell_type": "code",
   "execution_count": 21,
   "metadata": {},
   "outputs": [
    {
     "name": "stdout",
     "output_type": "stream",
     "text": [
      "Accuracy: 97.31428571428572%\n"
     ]
    }
   ],
   "source": [
    "pred_train = predict(train_x, train_y, paras)"
   ]
  },
  {
   "cell_type": "code",
   "execution_count": 22,
   "metadata": {},
   "outputs": [
    {
     "name": "stdout",
     "output_type": "stream",
     "text": [
      "Accuracy: 88.2%\n"
     ]
    }
   ],
   "source": [
    "pred_test=predict(test_x,test_y,paras)"
   ]
  },
  {
   "cell_type": "code",
   "execution_count": null,
   "metadata": {},
   "outputs": [],
   "source": []
  }
 ],
 "metadata": {
  "kernelspec": {
   "display_name": "Python 3",
   "language": "python",
   "name": "python3"
  },
  "language_info": {
   "codemirror_mode": {
    "name": "ipython",
    "version": 3
   },
   "file_extension": ".py",
   "mimetype": "text/x-python",
   "name": "python",
   "nbconvert_exporter": "python",
   "pygments_lexer": "ipython3",
   "version": "3.6.3"
  }
 },
 "nbformat": 4,
 "nbformat_minor": 2
}
